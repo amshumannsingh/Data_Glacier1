{
 "cells": [
  {
   "cell_type": "code",
   "execution_count": null,
   "metadata": {},
   "outputs": [],
   "source": [
    "import time\n",
    "import csv\n",
    "import pandas as pd\n",
    "import dask.dataframe as dd\n",
    "\n"
   ]
  },
  {
   "cell_type": "code",
   "execution_count": null,
   "metadata": {},
   "outputs": [],
   "source": [
    "pip install pandas_schema"
   ]
  },
  {
   "cell_type": "code",
   "execution_count": null,
   "metadata": {},
   "outputs": [],
   "source": [
    "%%time\n",
    "with open('Parking.csv') as csv_file:\n",
    "    csv_reader = csv.DictReader(csv_file, delimiter=',')\n",
    "    line_count = 0\n"
   ]
  },
  {
   "cell_type": "code",
   "execution_count": null,
   "metadata": {},
   "outputs": [],
   "source": [
    "csv_reader"
   ]
  },
  {
   "cell_type": "code",
   "execution_count": null,
   "metadata": {
    "scrolled": true
   },
   "outputs": [],
   "source": [
    "%%time\n",
    "data =pd.read_csv(\"Parking.csv\")\n"
   ]
  },
  {
   "cell_type": "code",
   "execution_count": null,
   "metadata": {},
   "outputs": [],
   "source": [
    "%%time\n",
    "chunks = pd.read_csv(\"Parking.csv\", chunksize=100000)\n",
    "data1 = pd.concat(chunks)\n"
   ]
  },
  {
   "cell_type": "code",
   "execution_count": null,
   "metadata": {},
   "outputs": [],
   "source": [
    "data.head()"
   ]
  },
  {
   "cell_type": "code",
   "execution_count": null,
   "metadata": {},
   "outputs": [],
   "source": [
    "df=data.sample(frac=0.01)\n"
   ]
  },
  {
   "cell_type": "code",
   "execution_count": null,
   "metadata": {},
   "outputs": [],
   "source": [
    "df"
   ]
  },
  {
   "cell_type": "code",
   "execution_count": null,
   "metadata": {},
   "outputs": [],
   "source": [
    "df.to_csv('test.csv', index=False)"
   ]
  },
  {
   "cell_type": "code",
   "execution_count": null,
   "metadata": {},
   "outputs": [],
   "source": [
    "%%time\n",
    "df1= dd.read_csv(\"Parking.csv\")\n",
    "\n"
   ]
  },
  {
   "cell_type": "code",
   "execution_count": null,
   "metadata": {},
   "outputs": [],
   "source": [
    "import os\n",
    "os.environ[\"MODIN_ENGINE\"] = \"ray\"  # Modin will use Ray\n",
    "import ray\n",
    "import modin.pandas as ray_pd"
   ]
  },
  {
   "cell_type": "code",
   "execution_count": null,
   "metadata": {},
   "outputs": [],
   "source": [
    "%time\n",
    "df11 = ray_pd.read_csv('Parking.csv')\n"
   ]
  },
  {
   "cell_type": "code",
   "execution_count": null,
   "metadata": {},
   "outputs": [],
   "source": [
    "data.head()"
   ]
  },
  {
   "cell_type": "code",
   "execution_count": null,
   "metadata": {},
   "outputs": [],
   "source": [
    "data.columns=data.columns.str.replace('[#,@,&]','')\n",
    "data.head()"
   ]
  },
  {
   "cell_type": "code",
   "execution_count": null,
   "metadata": {},
   "outputs": [],
   "source": [
    "data.columns=data.columns.str.replace(' ','_')\n",
    "data.head()"
   ]
  },
  {
   "cell_type": "code",
   "execution_count": null,
   "metadata": {},
   "outputs": [],
   "source": [
    "data.columns"
   ]
  },
  {
   "cell_type": "code",
   "execution_count": 1,
   "metadata": {},
   "outputs": [
    {
     "name": "stdout",
     "output_type": "stream",
     "text": [
      "Overwriting testutil.py\n"
     ]
    }
   ],
   "source": [
    "%%writefile testutil.py\n",
    "import logging\n",
    "import os\n",
    "import subprocess\n",
    "import yaml\n",
    "import pandas as pd\n",
    "import datetime \n",
    "import gc\n",
    "import re\n",
    "\n",
    "\n",
    "################\n",
    "# File Reading #\n",
    "################\n",
    "\n",
    "def read_config_file(filepath):\n",
    "    with open(filepath, 'r') as stream:\n",
    "        try:\n",
    "            return yaml.safe_load(stream)\n",
    "        except yaml.YAMLError as exc:\n",
    "            logging.error(exc)\n",
    "\n",
    "def replacer(string, char):\n",
    "    pattern = char + '{2,}'\n",
    "    string = re.sub(pattern, char, string) \n",
    "    return string\n",
    "\n",
    "\n",
    "def col_header_val(df,table_config):\n",
    "    '''\n",
    "    replace whitespaces in the column\n",
    "    and standardized column names\n",
    "    '''\n",
    "    df.columns = df.columns.str.lower()\n",
    "    df.columns = df.columns.str.replace('[^\\w]','_',regex=True)\n",
    "    df.columns = list(map(lambda x: x.strip('_'), list(df.columns)))\n",
    "    df.columns = list(map(lambda x: replacer(x,'_'), list(df.columns)))\n",
    "    expected_col = list(map(lambda x: x.lower(),  table_config['columns']))\n",
    "    expected_col.sort()\n",
    "    df.columns =list(map(lambda x: x.lower(), list(df.columns)))\n",
    "    df = df.reindex(sorted(df.columns), axis=1)\n",
    "    if len(df.columns) == len(expected_col) and list(expected_col)  == list(df.columns):\n",
    "        print(\"column name and column length validation passed\")\n",
    "        return 1\n",
    "    else:\n",
    "        print(\"column name and column length validation failed\")\n",
    "        mismatched_columns_file = list(set(df.columns).difference(expected_col))\n",
    "        print(\"Following File columns are not in the YAML file\",mismatched_columns_file)\n",
    "        missing_YAML_file = list(set(expected_col).difference(df.columns))\n",
    "        print(\"Following YAML columns are not in the file uploaded\",missing_YAML_file)\n",
    "        logging.info(f'df columns: {df.columns}')\n",
    "        logging.info(f'expected columns: {expected_col}')\n",
    "        return 0"
   ]
  },
  {
   "cell_type": "code",
   "execution_count": 2,
   "metadata": {},
   "outputs": [
    {
     "name": "stdout",
     "output_type": "stream",
     "text": [
      "Overwriting file.yaml\n"
     ]
    }
   ],
   "source": [
    "%%writefile file.yaml\n",
    "file_type: csv\n",
    "dataset_name: testfile\n",
    "file_name: test\n",
    "table_name: edsurv\n",
    "inbound_delimiter: \",\"\n",
    "outbound_delimiter: \"|\"\n",
    "skip_leading_rows: 1\n",
    "columns: \n",
    "    -Summons_Number\n",
    "    -Plate_ID\n",
    "    -Registration_State\n",
    "    -Plate_Type\n",
    "    -Issue_Date\n",
    "    -Violation_Code\n",
    "    -Vehicle_Body_Type\n",
    "    -Vehicle_Make\n",
    "    -Issuing_Agency\n",
    "    -Street_Code1\n",
    "    -Street_Code2\n",
    "    -Street_Code3\n",
    "    -Vehicle_Expiration_Date\n",
    "    -Violation_Location\n",
    "    -Violation_Precinct\n",
    "    -Issuer_Precinct\n",
    "    -Issuer_Code\n",
    "    -Issuer_Command\n",
    "    -Issuer_Squad\n",
    "    -Violation_Time\n",
    "    -Time_First_Observed\n",
    "    -Violation_County\n",
    "    -Violation_In_Front_Of_Or_Opposite\n",
    "    -House_Number\n",
    "    -Street_Name\n",
    "    -Intersecting_Street\n",
    "    -Date_First_Observed\n",
    "    -Law_Section\n",
    "    -Sub_Division\n",
    "    -Violation_Legal_Code\n",
    "    -Days_Parking_In_Effect____\n",
    "    -From_Hours_In_Effect\n",
    "    -To_Hours_In_Effect\n",
    "    -Vehicle_Color\n",
    "    -Unregistered_Vehicle?\n",
    "    -Vehicle_Year\n",
    "    -Meter_Number\n",
    "    -Feet_From_Curb\n",
    "    -Violation_Post_Code\n",
    "    -Violation_Description\n",
    "    -No_Standing_or_Stopping_Violation\n",
    "    -Hydrant_Violation\n",
    "    -Double_Parking_Violation\n",
    "    -Latitude\n",
    "    -Longitude\n",
    "    -Community_Board\n",
    "    -Community_Council_\n",
    "    -Census_Tract\n",
    "    -BIN\n",
    "    -BBL\n",
    "    -NTA"
   ]
  },
  {
   "cell_type": "code",
   "execution_count": 3,
   "metadata": {},
   "outputs": [
    {
     "name": "stderr",
     "output_type": "stream",
     "text": [
      "C:\\Users\\Amshu\\Anaconda3\\lib\\site-packages\\pandas\\compat\\_optional.py:138: UserWarning: Pandas requires version '2.7.0' or newer of 'numexpr' (version '2.6.9' currently installed).\n",
      "  warnings.warn(msg, UserWarning)\n"
     ]
    }
   ],
   "source": [
    "import testutil as util\n",
    "config_data = util.read_config_file(\"file.yaml\")"
   ]
  },
  {
   "cell_type": "code",
   "execution_count": 4,
   "metadata": {},
   "outputs": [
    {
     "data": {
      "text/plain": [
       "'|'"
      ]
     },
     "execution_count": 4,
     "metadata": {},
     "output_type": "execute_result"
    }
   ],
   "source": [
    "config_data['outbound_delimiter']"
   ]
  },
  {
   "cell_type": "code",
   "execution_count": 5,
   "metadata": {},
   "outputs": [
    {
     "data": {
      "text/plain": [
       "{'file_type': 'csv',\n",
       " 'dataset_name': 'testfile',\n",
       " 'file_name': 'test',\n",
       " 'table_name': 'edsurv',\n",
       " 'inbound_delimiter': ',',\n",
       " 'outbound_delimiter': '|',\n",
       " 'skip_leading_rows': 1,\n",
       " 'columns': '-Summons_Number -Plate_ID -Registration_State -Plate_Type -Issue_Date -Violation_Code -Vehicle_Body_Type -Vehicle_Make -Issuing_Agency -Street_Code1 -Street_Code2 -Street_Code3 -Vehicle_Expiration_Date -Violation_Location -Violation_Precinct -Issuer_Precinct -Issuer_Code -Issuer_Command -Issuer_Squad -Violation_Time -Time_First_Observed -Violation_County -Violation_In_Front_Of_Or_Opposite -House_Number -Street_Name -Intersecting_Street -Date_First_Observed -Law_Section -Sub_Division -Violation_Legal_Code -Days_Parking_In_Effect____ -From_Hours_In_Effect -To_Hours_In_Effect -Vehicle_Color -Unregistered_Vehicle? -Vehicle_Year -Meter_Number -Feet_From_Curb -Violation_Post_Code -Violation_Description -No_Standing_or_Stopping_Violation -Hydrant_Violation -Double_Parking_Violation -Latitude -Longitude -Community_Board -Community_Council_ -Census_Tract -BIN -BBL -NTA'}"
      ]
     },
     "execution_count": 5,
     "metadata": {},
     "output_type": "execute_result"
    }
   ],
   "source": [
    "config_data"
   ]
  },
  {
   "cell_type": "code",
   "execution_count": 6,
   "metadata": {},
   "outputs": [
    {
     "data": {
      "text/html": [
       "<div>\n",
       "<style scoped>\n",
       "    .dataframe tbody tr th:only-of-type {\n",
       "        vertical-align: middle;\n",
       "    }\n",
       "\n",
       "    .dataframe tbody tr th {\n",
       "        vertical-align: top;\n",
       "    }\n",
       "\n",
       "    .dataframe thead th {\n",
       "        text-align: right;\n",
       "    }\n",
       "</style>\n",
       "<table border=\"1\" class=\"dataframe\">\n",
       "  <thead>\n",
       "    <tr style=\"text-align: right;\">\n",
       "      <th></th>\n",
       "      <th>Summons_Number</th>\n",
       "      <th>Plate_ID</th>\n",
       "      <th>Registration_State</th>\n",
       "      <th>Plate_Type</th>\n",
       "      <th>Issue_Date</th>\n",
       "      <th>Violation_Code</th>\n",
       "      <th>Vehicle_Body_Type</th>\n",
       "      <th>Vehicle_Make</th>\n",
       "      <th>Issuing_Agency</th>\n",
       "      <th>Street_Code1</th>\n",
       "      <th>...</th>\n",
       "      <th>Hydrant_Violation</th>\n",
       "      <th>Double_Parking_Violation</th>\n",
       "      <th>Latitude</th>\n",
       "      <th>Longitude</th>\n",
       "      <th>Community_Board</th>\n",
       "      <th>Community_Council_</th>\n",
       "      <th>Census_Tract</th>\n",
       "      <th>BIN</th>\n",
       "      <th>BBL</th>\n",
       "      <th>NTA</th>\n",
       "    </tr>\n",
       "  </thead>\n",
       "  <tbody>\n",
       "    <tr>\n",
       "      <th>0</th>\n",
       "      <td>1399710643</td>\n",
       "      <td>U588005</td>\n",
       "      <td>99</td>\n",
       "      <td>999</td>\n",
       "      <td>03/18/2016</td>\n",
       "      <td>66</td>\n",
       "      <td>TRAI</td>\n",
       "      <td>NaN</td>\n",
       "      <td>S</td>\n",
       "      <td>39730</td>\n",
       "      <td>...</td>\n",
       "      <td>NaN</td>\n",
       "      <td>NaN</td>\n",
       "      <td>NaN</td>\n",
       "      <td>NaN</td>\n",
       "      <td>NaN</td>\n",
       "      <td>NaN</td>\n",
       "      <td>NaN</td>\n",
       "      <td>NaN</td>\n",
       "      <td>NaN</td>\n",
       "      <td>NaN</td>\n",
       "    </tr>\n",
       "    <tr>\n",
       "      <th>1</th>\n",
       "      <td>8225503247</td>\n",
       "      <td>HDP8147</td>\n",
       "      <td>PA</td>\n",
       "      <td>PAS</td>\n",
       "      <td>01/20/2016</td>\n",
       "      <td>38</td>\n",
       "      <td>4DSD</td>\n",
       "      <td>CHRYS</td>\n",
       "      <td>T</td>\n",
       "      <td>20390</td>\n",
       "      <td>...</td>\n",
       "      <td>NaN</td>\n",
       "      <td>NaN</td>\n",
       "      <td>NaN</td>\n",
       "      <td>NaN</td>\n",
       "      <td>NaN</td>\n",
       "      <td>NaN</td>\n",
       "      <td>NaN</td>\n",
       "      <td>NaN</td>\n",
       "      <td>NaN</td>\n",
       "      <td>NaN</td>\n",
       "    </tr>\n",
       "    <tr>\n",
       "      <th>2</th>\n",
       "      <td>4613649845</td>\n",
       "      <td>DPD6702</td>\n",
       "      <td>NY</td>\n",
       "      <td>PAS</td>\n",
       "      <td>12/02/2015</td>\n",
       "      <td>36</td>\n",
       "      <td>SUBN</td>\n",
       "      <td>TOYOT</td>\n",
       "      <td>V</td>\n",
       "      <td>0</td>\n",
       "      <td>...</td>\n",
       "      <td>NaN</td>\n",
       "      <td>NaN</td>\n",
       "      <td>NaN</td>\n",
       "      <td>NaN</td>\n",
       "      <td>NaN</td>\n",
       "      <td>NaN</td>\n",
       "      <td>NaN</td>\n",
       "      <td>NaN</td>\n",
       "      <td>NaN</td>\n",
       "      <td>NaN</td>\n",
       "    </tr>\n",
       "    <tr>\n",
       "      <th>3</th>\n",
       "      <td>5089650913</td>\n",
       "      <td>BGM2471</td>\n",
       "      <td>NY</td>\n",
       "      <td>PAS</td>\n",
       "      <td>12/04/2015</td>\n",
       "      <td>7</td>\n",
       "      <td>SUBN</td>\n",
       "      <td>ACURA</td>\n",
       "      <td>V</td>\n",
       "      <td>0</td>\n",
       "      <td>...</td>\n",
       "      <td>NaN</td>\n",
       "      <td>NaN</td>\n",
       "      <td>NaN</td>\n",
       "      <td>NaN</td>\n",
       "      <td>NaN</td>\n",
       "      <td>NaN</td>\n",
       "      <td>NaN</td>\n",
       "      <td>NaN</td>\n",
       "      <td>NaN</td>\n",
       "      <td>NaN</td>\n",
       "    </tr>\n",
       "    <tr>\n",
       "      <th>4</th>\n",
       "      <td>4615987110</td>\n",
       "      <td>2929TR</td>\n",
       "      <td>ME</td>\n",
       "      <td>PAS</td>\n",
       "      <td>02/03/2016</td>\n",
       "      <td>36</td>\n",
       "      <td>UT</td>\n",
       "      <td>TOYOT</td>\n",
       "      <td>V</td>\n",
       "      <td>0</td>\n",
       "      <td>...</td>\n",
       "      <td>NaN</td>\n",
       "      <td>NaN</td>\n",
       "      <td>NaN</td>\n",
       "      <td>NaN</td>\n",
       "      <td>NaN</td>\n",
       "      <td>NaN</td>\n",
       "      <td>NaN</td>\n",
       "      <td>NaN</td>\n",
       "      <td>NaN</td>\n",
       "      <td>NaN</td>\n",
       "    </tr>\n",
       "  </tbody>\n",
       "</table>\n",
       "<p>5 rows × 51 columns</p>\n",
       "</div>"
      ],
      "text/plain": [
       "   Summons_Number Plate_ID Registration_State Plate_Type  Issue_Date  \\\n",
       "0      1399710643  U588005                 99        999  03/18/2016   \n",
       "1      8225503247  HDP8147                 PA        PAS  01/20/2016   \n",
       "2      4613649845  DPD6702                 NY        PAS  12/02/2015   \n",
       "3      5089650913  BGM2471                 NY        PAS  12/04/2015   \n",
       "4      4615987110   2929TR                 ME        PAS  02/03/2016   \n",
       "\n",
       "   Violation_Code Vehicle_Body_Type Vehicle_Make Issuing_Agency  Street_Code1  \\\n",
       "0              66              TRAI          NaN              S         39730   \n",
       "1              38              4DSD        CHRYS              T         20390   \n",
       "2              36              SUBN        TOYOT              V             0   \n",
       "3               7              SUBN        ACURA              V             0   \n",
       "4              36                UT        TOYOT              V             0   \n",
       "\n",
       "   ...  Hydrant_Violation  Double_Parking_Violation  Latitude  Longitude  \\\n",
       "0  ...                NaN                       NaN       NaN        NaN   \n",
       "1  ...                NaN                       NaN       NaN        NaN   \n",
       "2  ...                NaN                       NaN       NaN        NaN   \n",
       "3  ...                NaN                       NaN       NaN        NaN   \n",
       "4  ...                NaN                       NaN       NaN        NaN   \n",
       "\n",
       "   Community_Board  Community_Council_  Census_Tract BIN BBL NTA  \n",
       "0              NaN                 NaN           NaN NaN NaN NaN  \n",
       "1              NaN                 NaN           NaN NaN NaN NaN  \n",
       "2              NaN                 NaN           NaN NaN NaN NaN  \n",
       "3              NaN                 NaN           NaN NaN NaN NaN  \n",
       "4              NaN                 NaN           NaN NaN NaN NaN  \n",
       "\n",
       "[5 rows x 51 columns]"
      ]
     },
     "execution_count": 6,
     "metadata": {},
     "output_type": "execute_result"
    }
   ],
   "source": [
    "import pandas as pd\n",
    "df_sample = pd.read_csv(\"test.csv\",delimiter=',')\n",
    "df_sample.head()"
   ]
  },
  {
   "cell_type": "code",
   "execution_count": 7,
   "metadata": {},
   "outputs": [
    {
     "name": "stderr",
     "output_type": "stream",
     "text": [
      "C:\\Users\\Amshu\\Anaconda3\\lib\\site-packages\\IPython\\core\\interactiveshell.py:3325: FutureWarning: In a future version of pandas all arguments of read_csv except for the argument 'filepath_or_buffer' will be keyword-only\n",
      "  exec(code_obj, self.user_global_ns, self.user_ns)\n"
     ]
    },
    {
     "data": {
      "text/html": [
       "<div>\n",
       "<style scoped>\n",
       "    .dataframe tbody tr th:only-of-type {\n",
       "        vertical-align: middle;\n",
       "    }\n",
       "\n",
       "    .dataframe tbody tr th {\n",
       "        vertical-align: top;\n",
       "    }\n",
       "\n",
       "    .dataframe thead th {\n",
       "        text-align: right;\n",
       "    }\n",
       "</style>\n",
       "<table border=\"1\" class=\"dataframe\">\n",
       "  <thead>\n",
       "    <tr style=\"text-align: right;\">\n",
       "      <th></th>\n",
       "      <th>Summons_Number</th>\n",
       "      <th>Plate_ID</th>\n",
       "      <th>Registration_State</th>\n",
       "      <th>Plate_Type</th>\n",
       "      <th>Issue_Date</th>\n",
       "      <th>Violation_Code</th>\n",
       "      <th>Vehicle_Body_Type</th>\n",
       "      <th>Vehicle_Make</th>\n",
       "      <th>Issuing_Agency</th>\n",
       "      <th>Street_Code1</th>\n",
       "      <th>...</th>\n",
       "      <th>Hydrant_Violation</th>\n",
       "      <th>Double_Parking_Violation</th>\n",
       "      <th>Latitude</th>\n",
       "      <th>Longitude</th>\n",
       "      <th>Community_Board</th>\n",
       "      <th>Community_Council_</th>\n",
       "      <th>Census_Tract</th>\n",
       "      <th>BIN</th>\n",
       "      <th>BBL</th>\n",
       "      <th>NTA</th>\n",
       "    </tr>\n",
       "  </thead>\n",
       "  <tbody>\n",
       "    <tr>\n",
       "      <th>0</th>\n",
       "      <td>1399710643</td>\n",
       "      <td>U588005</td>\n",
       "      <td>99</td>\n",
       "      <td>999</td>\n",
       "      <td>03/18/2016</td>\n",
       "      <td>66</td>\n",
       "      <td>TRAI</td>\n",
       "      <td>NaN</td>\n",
       "      <td>S</td>\n",
       "      <td>39730</td>\n",
       "      <td>...</td>\n",
       "      <td>NaN</td>\n",
       "      <td>NaN</td>\n",
       "      <td>NaN</td>\n",
       "      <td>NaN</td>\n",
       "      <td>NaN</td>\n",
       "      <td>NaN</td>\n",
       "      <td>NaN</td>\n",
       "      <td>NaN</td>\n",
       "      <td>NaN</td>\n",
       "      <td>NaN</td>\n",
       "    </tr>\n",
       "    <tr>\n",
       "      <th>1</th>\n",
       "      <td>8225503247</td>\n",
       "      <td>HDP8147</td>\n",
       "      <td>PA</td>\n",
       "      <td>PAS</td>\n",
       "      <td>01/20/2016</td>\n",
       "      <td>38</td>\n",
       "      <td>4DSD</td>\n",
       "      <td>CHRYS</td>\n",
       "      <td>T</td>\n",
       "      <td>20390</td>\n",
       "      <td>...</td>\n",
       "      <td>NaN</td>\n",
       "      <td>NaN</td>\n",
       "      <td>NaN</td>\n",
       "      <td>NaN</td>\n",
       "      <td>NaN</td>\n",
       "      <td>NaN</td>\n",
       "      <td>NaN</td>\n",
       "      <td>NaN</td>\n",
       "      <td>NaN</td>\n",
       "      <td>NaN</td>\n",
       "    </tr>\n",
       "    <tr>\n",
       "      <th>2</th>\n",
       "      <td>4613649845</td>\n",
       "      <td>DPD6702</td>\n",
       "      <td>NY</td>\n",
       "      <td>PAS</td>\n",
       "      <td>12/02/2015</td>\n",
       "      <td>36</td>\n",
       "      <td>SUBN</td>\n",
       "      <td>TOYOT</td>\n",
       "      <td>V</td>\n",
       "      <td>0</td>\n",
       "      <td>...</td>\n",
       "      <td>NaN</td>\n",
       "      <td>NaN</td>\n",
       "      <td>NaN</td>\n",
       "      <td>NaN</td>\n",
       "      <td>NaN</td>\n",
       "      <td>NaN</td>\n",
       "      <td>NaN</td>\n",
       "      <td>NaN</td>\n",
       "      <td>NaN</td>\n",
       "      <td>NaN</td>\n",
       "    </tr>\n",
       "    <tr>\n",
       "      <th>3</th>\n",
       "      <td>5089650913</td>\n",
       "      <td>BGM2471</td>\n",
       "      <td>NY</td>\n",
       "      <td>PAS</td>\n",
       "      <td>12/04/2015</td>\n",
       "      <td>7</td>\n",
       "      <td>SUBN</td>\n",
       "      <td>ACURA</td>\n",
       "      <td>V</td>\n",
       "      <td>0</td>\n",
       "      <td>...</td>\n",
       "      <td>NaN</td>\n",
       "      <td>NaN</td>\n",
       "      <td>NaN</td>\n",
       "      <td>NaN</td>\n",
       "      <td>NaN</td>\n",
       "      <td>NaN</td>\n",
       "      <td>NaN</td>\n",
       "      <td>NaN</td>\n",
       "      <td>NaN</td>\n",
       "      <td>NaN</td>\n",
       "    </tr>\n",
       "    <tr>\n",
       "      <th>4</th>\n",
       "      <td>4615987110</td>\n",
       "      <td>2929TR</td>\n",
       "      <td>ME</td>\n",
       "      <td>PAS</td>\n",
       "      <td>02/03/2016</td>\n",
       "      <td>36</td>\n",
       "      <td>UT</td>\n",
       "      <td>TOYOT</td>\n",
       "      <td>V</td>\n",
       "      <td>0</td>\n",
       "      <td>...</td>\n",
       "      <td>NaN</td>\n",
       "      <td>NaN</td>\n",
       "      <td>NaN</td>\n",
       "      <td>NaN</td>\n",
       "      <td>NaN</td>\n",
       "      <td>NaN</td>\n",
       "      <td>NaN</td>\n",
       "      <td>NaN</td>\n",
       "      <td>NaN</td>\n",
       "      <td>NaN</td>\n",
       "    </tr>\n",
       "  </tbody>\n",
       "</table>\n",
       "<p>5 rows × 51 columns</p>\n",
       "</div>"
      ],
      "text/plain": [
       "   Summons_Number Plate_ID Registration_State Plate_Type  Issue_Date  \\\n",
       "0      1399710643  U588005                 99        999  03/18/2016   \n",
       "1      8225503247  HDP8147                 PA        PAS  01/20/2016   \n",
       "2      4613649845  DPD6702                 NY        PAS  12/02/2015   \n",
       "3      5089650913  BGM2471                 NY        PAS  12/04/2015   \n",
       "4      4615987110   2929TR                 ME        PAS  02/03/2016   \n",
       "\n",
       "   Violation_Code Vehicle_Body_Type Vehicle_Make Issuing_Agency  Street_Code1  \\\n",
       "0              66              TRAI          NaN              S         39730   \n",
       "1              38              4DSD        CHRYS              T         20390   \n",
       "2              36              SUBN        TOYOT              V             0   \n",
       "3               7              SUBN        ACURA              V             0   \n",
       "4              36                UT        TOYOT              V             0   \n",
       "\n",
       "   ...  Hydrant_Violation  Double_Parking_Violation  Latitude  Longitude  \\\n",
       "0  ...                NaN                       NaN       NaN        NaN   \n",
       "1  ...                NaN                       NaN       NaN        NaN   \n",
       "2  ...                NaN                       NaN       NaN        NaN   \n",
       "3  ...                NaN                       NaN       NaN        NaN   \n",
       "4  ...                NaN                       NaN       NaN        NaN   \n",
       "\n",
       "   Community_Board  Community_Council_  Census_Tract BIN BBL NTA  \n",
       "0              NaN                 NaN           NaN NaN NaN NaN  \n",
       "1              NaN                 NaN           NaN NaN NaN NaN  \n",
       "2              NaN                 NaN           NaN NaN NaN NaN  \n",
       "3              NaN                 NaN           NaN NaN NaN NaN  \n",
       "4              NaN                 NaN           NaN NaN NaN NaN  \n",
       "\n",
       "[5 rows x 51 columns]"
      ]
     },
     "execution_count": 7,
     "metadata": {},
     "output_type": "execute_result"
    }
   ],
   "source": [
    "file_type = config_data['file_type']\n",
    "source_file = \"./\" + config_data['file_name'] + f'.{file_type}'\n",
    "#print(\"\",source_file)\n",
    "df = pd.read_csv(source_file,config_data['inbound_delimiter'])\n",
    "df.head()"
   ]
  },
  {
   "cell_type": "code",
   "execution_count": 8,
   "metadata": {},
   "outputs": [
    {
     "name": "stdout",
     "output_type": "stream",
     "text": [
      "columns of files are: Index(['Summons_Number', 'Plate_ID', 'Registration_State', 'Plate_Type',\n",
      "       'Issue_Date', 'Violation_Code', 'Vehicle_Body_Type', 'Vehicle_Make',\n",
      "       'Issuing_Agency', 'Street_Code1', 'Street_Code2', 'Street_Code3',\n",
      "       'Vehicle_Expiration_Date', 'Violation_Location', 'Violation_Precinct',\n",
      "       'Issuer_Precinct', 'Issuer_Code', 'Issuer_Command', 'Issuer_Squad',\n",
      "       'Violation_Time', 'Time_First_Observed', 'Violation_County',\n",
      "       'Violation_In_Front_Of_Or_Opposite', 'House_Number', 'Street_Name',\n",
      "       'Intersecting_Street', 'Date_First_Observed', 'Law_Section',\n",
      "       'Sub_Division', 'Violation_Legal_Code', 'Days_Parking_In_Effect____',\n",
      "       'From_Hours_In_Effect', 'To_Hours_In_Effect', 'Vehicle_Color',\n",
      "       'Unregistered_Vehicle?', 'Vehicle_Year', 'Meter_Number',\n",
      "       'Feet_From_Curb', 'Violation_Post_Code', 'Violation_Description',\n",
      "       'No_Standing_or_Stopping_Violation', 'Hydrant_Violation',\n",
      "       'Double_Parking_Violation', 'Latitude', 'Longitude', 'Community_Board',\n",
      "       'Community_Council_', 'Census_Tract', 'BIN', 'BBL', 'NTA'],\n",
      "      dtype='object')\n",
      "columns of YAML are: -Summons_Number -Plate_ID -Registration_State -Plate_Type -Issue_Date -Violation_Code -Vehicle_Body_Type -Vehicle_Make -Issuing_Agency -Street_Code1 -Street_Code2 -Street_Code3 -Vehicle_Expiration_Date -Violation_Location -Violation_Precinct -Issuer_Precinct -Issuer_Code -Issuer_Command -Issuer_Squad -Violation_Time -Time_First_Observed -Violation_County -Violation_In_Front_Of_Or_Opposite -House_Number -Street_Name -Intersecting_Street -Date_First_Observed -Law_Section -Sub_Division -Violation_Legal_Code -Days_Parking_In_Effect____ -From_Hours_In_Effect -To_Hours_In_Effect -Vehicle_Color -Unregistered_Vehicle? -Vehicle_Year -Meter_Number -Feet_From_Curb -Violation_Post_Code -Violation_Description -No_Standing_or_Stopping_Violation -Hydrant_Violation -Double_Parking_Violation -Latitude -Longitude -Community_Board -Community_Council_ -Census_Tract -BIN -BBL -NTA\n"
     ]
    }
   ],
   "source": [
    "print(\"columns of files are:\" ,df.columns)\n",
    "print(\"columns of YAML are:\" ,config_data['columns'])"
   ]
  },
  {
   "cell_type": "code",
   "execution_count": 9,
   "metadata": {},
   "outputs": [
    {
     "name": "stdout",
     "output_type": "stream",
     "text": [
      "column name and column length validation failed\n",
      "Following File columns are not in the YAML file ['street_name', 'issuer_command', 'vehicle_year', 'street_code1', 'to_hours_in_effect', 'issue_date', 'census_tract', 'house_number', 'nta', 'vehicle_body_type', 'violation_location', 'community_board', 'issuer_precinct', 'intersecting_street', 'sub_division', 'violation_precinct', 'bbl', 'street_code2', 'days_parking_in_effect', 'meter_number', 'vehicle_expiration_date', 'feet_from_curb', 'date_first_observed', 'plate_id', 'unregistered_vehicle', 'double_parking_violation', 'law_section', 'vehicle_make', 'violation_county', 'violation_in_front_of_or_opposite', 'from_hours_in_effect', 'violation_time', 'hydrant_violation', 'summons_number', 'street_code3', 'issuer_squad', 'no_standing_or_stopping_violation', 'issuer_code', 'violation_code', 'violation_description', 'violation_post_code', 'registration_state', 'latitude', 'violation_legal_code', 'longitude', 'issuing_agency', 'plate_type', 'time_first_observed', 'vehicle_color', 'bin', 'community_council']\n",
      "Following YAML columns are not in the file uploaded ['?', 'l', '-', 'g', '3', 'u', 'a', 'd', '1', 'x', 'f', '2', 'b', 'n', 'h', 'e', ' ', 'c', 'o', 'r', 'p', 'q', '_', 'i', 'y', 'm', 'k', 'w', 't', 's', 'v']\n"
     ]
    },
    {
     "data": {
      "text/plain": [
       "0"
      ]
     },
     "execution_count": 9,
     "metadata": {},
     "output_type": "execute_result"
    }
   ],
   "source": [
    "util.col_header_val(df,config_data)"
   ]
  },
  {
   "cell_type": "code",
   "execution_count": 37,
   "metadata": {},
   "outputs": [],
   "source": [
    "df.to_csv('test.csv.gz', compression='gzip', sep='|')\n"
   ]
  },
  {
   "cell_type": "code",
   "execution_count": 38,
   "metadata": {},
   "outputs": [
    {
     "name": "stdout",
     "output_type": "stream",
     "text": [
      "<class 'pandas.core.frame.DataFrame'>\n",
      "RangeIndex: 106269 entries, 0 to 106268\n",
      "Data columns (total 51 columns):\n",
      " #   Column                             Non-Null Count   Dtype  \n",
      "---  ------                             --------------   -----  \n",
      " 0   summons_number                     106269 non-null  int64  \n",
      " 1   plate_id                           106248 non-null  object \n",
      " 2   registration_state                 106269 non-null  object \n",
      " 3   plate_type                         106269 non-null  object \n",
      " 4   issue_date                         106269 non-null  object \n",
      " 5   violation_code                     106269 non-null  int64  \n",
      " 6   vehicle_body_type                  105900 non-null  object \n",
      " 7   vehicle_make                       105631 non-null  object \n",
      " 8   issuing_agency                     106269 non-null  object \n",
      " 9   street_code1                       106269 non-null  int64  \n",
      " 10  street_code2                       106269 non-null  int64  \n",
      " 11  street_code3                       106269 non-null  int64  \n",
      " 12  vehicle_expiration_date            106269 non-null  float64\n",
      " 13  violation_location                 87688 non-null   float64\n",
      " 14  violation_precinct                 106269 non-null  float64\n",
      " 15  issuer_precinct                    106269 non-null  float64\n",
      " 16  issuer_code                        106269 non-null  float64\n",
      " 17  issuer_command                     87780 non-null   object \n",
      " 18  issuer_squad                       87774 non-null   object \n",
      " 19  violation_time                     106222 non-null  object \n",
      " 20  time_first_observed                11329 non-null   object \n",
      " 21  violation_county                   89215 non-null   object \n",
      " 22  violation_in_front_of_or_opposite  86950 non-null   object \n",
      " 23  house_number                       86065 non-null   object \n",
      " 24  street_name                        106194 non-null  object \n",
      " 25  intersecting_street                30922 non-null   object \n",
      " 26  date_first_observed                106269 non-null  float64\n",
      " 27  law_section                        106269 non-null  float64\n",
      " 28  sub_division                       106230 non-null  object \n",
      " 29  violation_legal_code               18500 non-null   object \n",
      " 30  days_parking_in_effect             77822 non-null   object \n",
      " 31  from_hours_in_effect               56801 non-null   object \n",
      " 32  to_hours_in_effect                 56801 non-null   object \n",
      " 33  vehicle_color                      104975 non-null  object \n",
      " 34  unregistered_vehicle               11418 non-null   float64\n",
      " 35  vehicle_year                       106269 non-null  float64\n",
      " 36  meter_number                       19006 non-null   object \n",
      " 37  feet_from_curb                     106269 non-null  float64\n",
      " 38  violation_post_code                76337 non-null   object \n",
      " 39  violation_description              94818 non-null   object \n",
      " 40  no_standing_or_stopping_violation  0 non-null       float64\n",
      " 41  hydrant_violation                  0 non-null       float64\n",
      " 42  double_parking_violation           0 non-null       float64\n",
      " 43  latitude                           0 non-null       float64\n",
      " 44  longitude                          0 non-null       float64\n",
      " 45  community_board                    0 non-null       float64\n",
      " 46  community_council                  0 non-null       float64\n",
      " 47  census_tract                       0 non-null       float64\n",
      " 48  bin                                0 non-null       float64\n",
      " 49  bbl                                0 non-null       float64\n",
      " 50  nta                                0 non-null       float64\n",
      "dtypes: float64(21), int64(5), object(25)\n",
      "memory usage: 41.3+ MB\n"
     ]
    }
   ],
   "source": [
    "df.info()"
   ]
  },
  {
   "cell_type": "code",
   "execution_count": null,
   "metadata": {},
   "outputs": [],
   "source": []
  }
 ],
 "metadata": {
  "kernelspec": {
   "display_name": "Python 3",
   "language": "python",
   "name": "python3"
  },
  "language_info": {
   "codemirror_mode": {
    "name": "ipython",
    "version": 3
   },
   "file_extension": ".py",
   "mimetype": "text/x-python",
   "name": "python",
   "nbconvert_exporter": "python",
   "pygments_lexer": "ipython3",
   "version": "3.7.3"
  }
 },
 "nbformat": 4,
 "nbformat_minor": 2
}
